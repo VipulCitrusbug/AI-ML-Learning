{
 "cells": [
  {
   "cell_type": "markdown",
   "id": "a14f84fb-6131-43d2-947d-420a0c75c027",
   "metadata": {},
   "source": [
    "# Imports"
   ]
  },
  {
   "cell_type": "code",
   "execution_count": 6,
   "id": "2d61a7d4-7ff9-4e89-846a-d3f74e0dccf8",
   "metadata": {
    "scrolled": true
   },
   "outputs": [],
   "source": [
    "import numpy as np\n",
    "import pandas"
   ]
  },
  {
   "cell_type": "markdown",
   "id": "139db74e-d005-4caa-beb0-4e35c9056f3b",
   "metadata": {},
   "source": [
    "# Numpy Theory\r\n",
    "\r\n",
    "NumPy was created in 2005 by **Travis Oliphant**. NumPy stands for **Numerical Python**.\r\n",
    "\r\n",
    "## Theory Topics\r\n",
    "\r\n",
    "1. Use of 'array' function (for creating an array)\r\n",
    "2. Array Indexing\r\n",
    "3. Array Slicing\r\n",
    "4. Numpy Data Types\r\n",
    "5. Shape\r\n",
    "6. Reshape\r\n",
    "7. Iterating (for loop, nditer(array), ndenumerate(array))\r\n",
    "8. Join (`concatenate()`, `stack()`, `hstack()`, `vstack()`, `dstack()`)\r\n",
    "9. Split (`array_split()`, `hsplit()`, `vsplit()`, `dsplit()`)\r\n",
    "10. Search-Where (`where()`, `searchsorted()`)\r\n",
    "11. Sort (`sort()`)\r\n",
    "12. Filtering (filter an array using a boolean index list.)\r\n",
    "13. Random (`shuffle`, `permutation`, `randint`, `rand`)\r\n",
    "14. Arithmetic ufuncs (`add`, `subtract`, `multiply`, `divide`, `power`, `mod()` or `reminder()`, `divmod()`, `absolute()` or `abs()`)\r\n",
    "\r\n",
    "## Notes\r\n",
    "\r\n",
    "- `random.shuffle` and `random.permutation` functions have the same functionality, but `permutation()` creates a new array.\r\n",
    "\r\n",
    "## Terminology\r\n",
    "\r\n",
    "- `ufuncs` = Universal Functions (`<class 'numpy.ufunc'>`)\r\n",
    "- Vectorization = Converting iterative statements into a vector-based operation is called vectorization.\r\n"
   ]
  },
  {
   "cell_type": "markdown",
   "id": "b2db2803-afdc-4379-b64d-462e7605afc1",
   "metadata": {},
   "source": [
    "# Numpy Practice"
   ]
  },
  {
   "cell_type": "code",
   "execution_count": 5,
   "id": "9cecb127-7d7d-467a-a3a7-a5434d24b5eb",
   "metadata": {},
   "outputs": [
    {
     "name": "stdout",
     "output_type": "stream",
     "text": [
      "0-D Array\n",
      "42\n",
      "Dimension :  0\n",
      "\n",
      "1-D Array\n",
      "[1 2 3 4 5]\n",
      "Dimension :  1\n",
      "\n",
      "2-D Array\n",
      "[[1 2 3]\n",
      " [4 5 6]]\n",
      "Dimension :  2\n",
      "\n",
      "3-D Array\n",
      "[[[1 2 3]\n",
      "  [4 5 6]]\n",
      "\n",
      " [[1 2 3]\n",
      "  [4 5 6]]]\n",
      "Dimension :  3\n"
     ]
    }
   ],
   "source": [
    "# 0-D Array\n",
    "print(\"0-D Array\")\n",
    "arr = np.array(42)\n",
    "print(arr)\n",
    "print(\"Dimension : \", arr.ndim)\n",
    "\n",
    "# 1-D Array\n",
    "print(\"\\n1-D Array\")\n",
    "arr = np.array([1, 2, 3, 4, 5])\n",
    "print(arr)\n",
    "print(\"Dimension : \", arr.ndim)\n",
    "\n",
    "# 2-D Array\n",
    "print(\"\\n2-D Array\")\n",
    "arr = np.array([[1, 2, 3], [4, 5, 6]])\n",
    "print(arr)\n",
    "print(\"Dimension : \", arr.ndim)\n",
    "\n",
    "# 3-D Array (3-D array contains list of 2-D arrays)\n",
    "print(\"\\n3-D Array\")\n",
    "arr = np.array([[[1, 2, 3], [4, 5, 6]], [[1, 2, 3], [4, 5, 6]]])\n",
    "print(arr)\n",
    "print(\"Dimension : \", arr.ndim)"
   ]
  },
  {
   "cell_type": "markdown",
   "id": "da16be92-1c4a-4e4c-95a6-45e7894721f7",
   "metadata": {},
   "source": [
    "**Numpy Data Types** :\n",
    "```\n",
    "i - integer\n",
    "b - boolean\n",
    "u - unsigned integer\n",
    "f - float\n",
    "c - complex float\n",
    "m - timedelta\n",
    "M - datetime\n",
    "O - object\n",
    "S - string\n",
    "U - unicode string\n",
    "V - fixed chunk of memory for other type ( void )\n",
    "```\n",
    "\n",
    "Check data type of an array by using **dtype**.\n",
    "\n"
   ]
  },
  {
   "cell_type": "code",
   "execution_count": null,
   "id": "e89c223f-2d0e-4e5a-adcd-21284fde2e94",
   "metadata": {},
   "outputs": [],
   "source": []
  }
 ],
 "metadata": {
  "kernelspec": {
   "display_name": "Python 3 (ipykernel)",
   "language": "python",
   "name": "python3"
  },
  "language_info": {
   "codemirror_mode": {
    "name": "ipython",
    "version": 3
   },
   "file_extension": ".py",
   "mimetype": "text/x-python",
   "name": "python",
   "nbconvert_exporter": "python",
   "pygments_lexer": "ipython3",
   "version": "3.11.3"
  }
 },
 "nbformat": 4,
 "nbformat_minor": 5
}
