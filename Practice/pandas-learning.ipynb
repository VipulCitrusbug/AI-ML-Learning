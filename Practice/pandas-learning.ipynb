{
 "cells": [
  {
   "cell_type": "markdown",
   "id": "0aaefdc5-51d7-4bdc-8146-3e2025fb1da6",
   "metadata": {},
   "source": [
    "# Theory"
   ]
  },
  {
   "cell_type": "markdown",
   "id": "16c1cd2c-b7bb-4798-83b9-bf761b4a75a8",
   "metadata": {},
   "source": [
    "# Basic\n",
    "\n",
    "- The name \"Pandas\" has a reference to both \"Panel Data\" and \"Python Data Analysis\" and was created by Wes McKinney in 2008.\n",
    "\n",
    "- 1-D Array: `pd.Series`\n",
    "- Multi-dimensional: `pd.DataFrame`\n",
    "\n",
    "# Topics\n",
    "\n",
    "### 1. Series\n",
    "\n",
    "### 2. DataFrame\n",
    "\n",
    "### 3. Functions\n",
    "\n",
    "1. `loc()`: Locate\n",
    "2. `read_csv()`: To read a CSV file into a Pandas DataFrame\n",
    "3. `to_string()`: To print the entire DataFrame\n",
    "4. `head()`: Display headers and a specified number of rows from the start\n",
    "5. `tail()`: Display headers and a specified number of rows from the bottom\n",
    "6. `info()`: Provide more information about the datasets.\n",
    "7. `dropna()`: remove rows that contain empty cells. returns a new DataFrame.\n",
    "8. `fillna()`: replace empty cells with a value.\n",
    "9. `drop()`: remove the rows.\n",
    "10. `duplicated()`: Returns True for every row that is a duplicate, otherwise False.\n",
    "11. `drop_duplicates()`: To remove duplicates.\n",
    "12. `corr()`: calculates the relationship between each column in data set.\n",
    "13. `plot()`: create diagrams.\n",
    "14. \n",
    "\n",
    "# Important Notes\n",
    "\n",
    "- Set the maximum number of rows to display by using `pd.options.display.max_rows`.\n",
    "- DATA CLEANING : fixing bad data in your data set.\n",
    "  Bad Data could be :\n",
    "  1. Empty Cell\n",
    "  2. Data in wrong format\n",
    "  3. Wrong data\n",
    "  4. Duplicates\n",
    "- The `corr()` method ignores \"not numeric\" columns.\n"
   ]
  },
  {
   "cell_type": "markdown",
   "id": "1e4f7c31-1a27-4e7b-90c3-1163811e6733",
   "metadata": {},
   "source": [
    "# Practical"
   ]
  },
  {
   "cell_type": "markdown",
   "id": "a16aa620-2280-4dd8-8085-405ad6cf4acc",
   "metadata": {},
   "source": [
    "## Imports"
   ]
  },
  {
   "cell_type": "code",
   "execution_count": 14,
   "id": "ab497371-56f8-44a9-8061-5afeb47bc605",
   "metadata": {},
   "outputs": [],
   "source": [
    "import pandas as pd\n",
    "import numpy as np"
   ]
  },
  {
   "cell_type": "code",
   "execution_count": 15,
   "id": "0ecc4bd8-93dc-4f10-9826-b8e546e50812",
   "metadata": {},
   "outputs": [],
   "source": [
    "df = pd.read_csv(\"sample_csv.csv\")"
   ]
  },
  {
   "cell_type": "code",
   "execution_count": 18,
   "id": "67c5cf43-ce26-40cf-85b6-01d426710cc6",
   "metadata": {},
   "outputs": [
    {
     "name": "stdout",
     "output_type": "stream",
     "text": [
      "2.2.0\n"
     ]
    }
   ],
   "source": [
    "df"
   ]
  },
  {
   "cell_type": "code",
   "execution_count": 19,
   "id": "9afe3c16-37e0-45f8-bd0c-409068a9b9de",
   "metadata": {},
   "outputs": [
    {
     "data": {
      "text/plain": [
       "60"
      ]
     },
     "execution_count": 19,
     "metadata": {},
     "output_type": "execute_result"
    }
   ],
   "source": [
    "pd.options.display.max_rows"
   ]
  }
 ],
 "metadata": {
  "kernelspec": {
   "display_name": "Python 3 (ipykernel)",
   "language": "python",
   "name": "python3"
  },
  "language_info": {
   "codemirror_mode": {
    "name": "ipython",
    "version": 3
   },
   "file_extension": ".py",
   "mimetype": "text/x-python",
   "name": "python",
   "nbconvert_exporter": "python",
   "pygments_lexer": "ipython3",
   "version": "3.11.3"
  }
 },
 "nbformat": 4,
 "nbformat_minor": 5
}
